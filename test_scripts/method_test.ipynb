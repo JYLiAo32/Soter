{
 "cells": [
  {
   "cell_type": "code",
   "id": "initial_id",
   "metadata": {
    "collapsed": true,
    "ExecuteTime": {
     "end_time": "2025-10-28T09:00:34.311101Z",
     "start_time": "2025-10-28T09:00:34.214436Z"
    }
   },
   "source": [
    "import os\n",
    "import pytimeloop.timeloopfe.v4 as tl\n",
    "print('ok')"
   ],
   "outputs": [
    {
     "name": "stdout",
     "output_type": "stream",
     "text": [
      "ok\n"
     ]
    }
   ],
   "execution_count": 1
  },
  {
   "metadata": {
    "ExecuteTime": {
     "end_time": "2025-10-28T09:01:20.900860Z",
     "start_time": "2025-10-28T09:01:20.893247Z"
    }
   },
   "cell_type": "code",
   "source": [
    "# path_arch = \"/home/ljy/workspace/mapping/Soter/test/v4_soter/simba_arch.yaml\"\n",
    "# path_prob = \"/home/ljy/workspace/mapping/Soter/test/v4_soter/problem.yaml\"\n",
    "path_map = \"/home/ljy/workspace/mapping/Soter/test/v4_soter/map.yaml\"\n",
    "# path_component = \"/home/ljy/workspace/mapping/Soter/test/v4_soter/components/*.yaml\"\n",
    "# path_mapper = \"/home/ljy/workspace/mapping/Soter/test/v4_soter/mapper.yaml\"\n",
    "\n",
    "path_arch ='/home/ljy/workspace/mapping/Soter/SpatialAccelerators_v4/Simba/arch.yaml'\n",
    "path_prob ='/home/ljy/workspace/mapping/Soter/SpatialAccelerators_v4/Simba/problem.yaml'\n",
    "path_component ='/home/ljy/workspace/mapping/Soter/SpatialAccelerators_v4/Simba/components/*.yaml'\n",
    "output_path = f\"/home/ljy/workspace/mapping/Soter/tmp/output_notebook_test\"\n",
    "path_map2 = \"/home/ljy/workspace/mapping/Soter/test/v4_soter/map2.yaml\""
   ],
   "id": "f528155c3c6dab2a",
   "outputs": [],
   "execution_count": 3
  },
  {
   "metadata": {
    "ExecuteTime": {
     "end_time": "2025-10-28T09:02:09.857706Z",
     "start_time": "2025-10-28T09:02:09.849500Z"
    }
   },
   "cell_type": "code",
   "source": [
    "from pytimeloop import Config  \n",
    "with open(path_arch, \"r\") as f:  \n",
    "    yaml_str = f.read()  \n",
    "print(yaml_str)\n"
   ],
   "id": "64ed25dc8f318918",
   "outputs": [
    {
     "name": "stdout",
     "output_type": "stream",
     "text": [
      "# Refer from test/v4_soter/simba_arch.yaml\n",
      "architecture:\n",
      "  version: 0.4\n",
      "  nodes:\n",
      "  - !Container\n",
      "    name: System\n",
      "    attributes:\n",
      "      technology: \"40nm\"  \n",
      "      global_cycle_seconds: 1e-9\n",
      "      datawidth: 8\n",
      "\n",
      "  - !Component\n",
      "    name: DRAM\n",
      "    class: DRAM\n",
      "    attributes:\n",
      "      # type: \"LPDDR4\"\n",
      "      cluster_size: 1\n",
      "      read_bandwidth: 1\n",
      "      write_bandwidth: 1\n",
      "      block_size: 64 # 匹配v2设定, 同时改动width\n",
      "      datawidth: 8\n",
      "      width: 512\n",
      "      # 参考spatialAccelerators/simba/mapspace.yaml的配置补全约束:\n",
      "      constraints:\n",
      "        dataspace: {keep: [Inputs, Outputs, Weights], bypass: []}    \n",
      "\n",
      "  - !Container\n",
      "    name: Chip\n",
      "    attributes:\n",
      "      technology: \"40nm\"  \n",
      "\n",
      "  - !Component\n",
      "    name: GlobalBuffer\n",
      "    class: SRAM\n",
      "    attributes:\n",
      "      block_size: 8\n",
      "      cluster_size: 1\n",
      "      depth: 8192\n",
      "      num_banks: 256\n",
      "      num_ports: 2\n",
      "      read_bandwidth: 2\n",
      "      width: 64\n",
      "      datawidth: 8\n",
      "      write_bandwidth: 2\n",
      "      # 参考spatialAccelerators/simba/mapspace.yaml的配置补全约束:\n",
      "      constraints:\n",
      "        dataspace: {keep: [Inputs, Outputs], bypass: [Weights]}  \n",
      "\n",
      "  - !Container\n",
      "    name: PE\n",
      "    spatial: {meshX: 16} \n",
      "  - !Parallel  \n",
      "    nodes:\n",
      "    - !Component\n",
      "      name: InputBuffer  \n",
      "      class: regfile  \n",
      "      attributes:\n",
      "        block_size: 4\n",
      "        cluster_size: 1\n",
      "        depth: 2048  \n",
      "        width: 32\n",
      "        num_banks: 1\n",
      "        num_ports: 2\n",
      "        read_bandwidth: 2\n",
      "        write_bandwidth: 2\n",
      "        datawidth: 8\n",
      "      constraints:\n",
      "        dataspace: {keep: [Inputs], bypass: [Weights, Outputs]}        \n",
      "        # # TODO: 是否需要补充temporal约束？\n",
      "        # # 参考exercise_06的eyeriss_like配置:\n",
      "        # temporal:\n",
      "        #   permutation: [N, K, C, P, Q, R, S] \n",
      "        #   factors: [N=1, K=1, C=1, P=1, Q=1, R=1, S=1]  # 完整传入\n",
      "\n",
      "    - !Component\n",
      "      name: WeightBuffer\n",
      "      class: regfile  \n",
      "      attributes:\n",
      "        block_size: 4\n",
      "        cluster_size: 1\n",
      "        depth: 8192\n",
      "        width: 32\n",
      "        num_banks: 8\n",
      "        num_ports: 1\n",
      "        datawidth: 8\n",
      "        read_bandwidth: 2\n",
      "        write_bandwidth: 2\n",
      "      constraints:\n",
      "        dataspace: {keep: [Weights], bypass: [Inputs, Outputs]}        \n",
      "        # TODO: 是否需要补充temporal约束？\n",
      "        # # 参考exercise_06的eyeriss_like配置:\n",
      "        # temporal:\n",
      "        #   permutation: [N, K, P, Q, S, C, R]\n",
      "        #   factors: [N=1, K=1, P=1, Q=1, S=1]\n",
      "\n",
      "    - !Component\n",
      "      name: AccumulationBuffer\n",
      "      class: regfile  \n",
      "      attributes:\n",
      "        block_size: 4\n",
      "        cluster_size: 1\n",
      "        depth: 768\n",
      "        network_word_bits: 16\n",
      "        num_banks: 2\n",
      "        num_ports: 2\n",
      "        read_bandwidth: 2\n",
      "        width: 96\n",
      "        datawidth: 24\n",
      "        write_bandwidth: 2\n",
      "      constraints:\n",
      "        dataspace: {keep: [Outputs], bypass: [Inputs, Weights]}        \n",
      "        # TODO: 是否需要补充temporal约束？\n",
      "        # temporal:\n",
      "        #   permutation: [N, C, P, Q, R, S, K] \n",
      "        #   factors: [N=1, C=1, R=1, S=1, P=1, Q=1]\n",
      "\n",
      "  # 引入reg_mac统一定义\n",
      "  - !Container\n",
      "    name: reg_mac\n",
      "    spatial: {meshX: 64}  # meshX还是meshY?\n",
      "  - !Component\n",
      "    name: Registers\n",
      "    class: regfile  \n",
      "    attributes:\n",
      "      block_size: 1\n",
      "      cluster_size: 1\n",
      "      depth: 1\n",
      "      num_banks: 8\n",
      "      num_ports: 2\n",
      "      read_bandwidth: 2\n",
      "      width: 8\n",
      "      datawidth: 8\n",
      "      write_bandwidth: 2\n",
      "      # 参考spatialAccelerators/simba/mapspace.yaml的配置补全约束:\n",
      "      constraints:\n",
      "        dataspace: {keep: [Weights], bypass: [Outputs, Inputs]}  # FIXME: 寄存器只存权重？        \n",
      "\n",
      "  - !Component\n",
      "      name: MACC\n",
      "      # spatial: {meshX: 64}  # meshX还是meshY?\n",
      "      class: intmac  \n",
      "      attributes:\n",
      "        cluster_size: 1\n",
      "        datawidth: 8\n",
      "        multiplier_width: 8 # 乘数位宽 8 bit\n",
      "        adder_width: 16 # 加法器位宽 16 bit\n",
      "\n"
     ]
    }
   ],
   "execution_count": 4
  },
  {
   "metadata": {},
   "cell_type": "code",
   "outputs": [],
   "execution_count": null,
   "source": "",
   "id": "5699bce190ed585c"
  },
  {
   "metadata": {},
   "cell_type": "code",
   "outputs": [],
   "execution_count": null,
   "source": "",
   "id": "19d42a89337d9d77"
  },
  {
   "metadata": {},
   "cell_type": "code",
   "outputs": [],
   "execution_count": null,
   "source": "",
   "id": "254b4e9767d41d48"
  },
  {
   "metadata": {},
   "cell_type": "code",
   "outputs": [],
   "execution_count": null,
   "source": "",
   "id": "9378f31074b0cd5d"
  },
  {
   "metadata": {},
   "cell_type": "code",
   "outputs": [],
   "execution_count": null,
   "source": "",
   "id": "9fbe80106e4c1698"
  },
  {
   "metadata": {},
   "cell_type": "code",
   "outputs": [],
   "execution_count": null,
   "source": "",
   "id": "fe8e6e55ce91443e"
  },
  {
   "metadata": {},
   "cell_type": "code",
   "outputs": [],
   "execution_count": null,
   "source": "",
   "id": "eb315005730676ef"
  },
  {
   "metadata": {},
   "cell_type": "code",
   "outputs": [],
   "execution_count": null,
   "source": "",
   "id": "91d6954411d097a1"
  },
  {
   "metadata": {},
   "cell_type": "code",
   "outputs": [],
   "execution_count": null,
   "source": "",
   "id": "472062f404e1ac5c"
  }
 ],
 "metadata": {
  "kernelspec": {
   "display_name": "Python 3",
   "language": "python",
   "name": "python3"
  },
  "language_info": {
   "codemirror_mode": {
    "name": "ipython",
    "version": 2
   },
   "file_extension": ".py",
   "mimetype": "text/x-python",
   "name": "python",
   "nbconvert_exporter": "python",
   "pygments_lexer": "ipython2",
   "version": "2.7.6"
  }
 },
 "nbformat": 4,
 "nbformat_minor": 5
}
